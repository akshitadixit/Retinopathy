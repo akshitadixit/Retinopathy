{
  "nbformat": 4,
  "nbformat_minor": 0,
  "metadata": {
    "colab": {
      "name": "data-cleaning.ipynb",
      "provenance": [],
      "authorship_tag": "ABX9TyMsGItd1qqyTHK1GOD7Tyqj",
      "include_colab_link": true
    },
    "kernelspec": {
      "name": "python3",
      "display_name": "Python 3"
    },
    "language_info": {
      "name": "python"
    }
  },
  "cells": [
    {
      "cell_type": "markdown",
      "metadata": {
        "id": "view-in-github",
        "colab_type": "text"
      },
      "source": [
        "<a href=\"https://colab.research.google.com/github/akshitadixit/Retinopathy/blob/main/data_cleaning.ipynb\" target=\"_parent\"><img src=\"https://colab.research.google.com/assets/colab-badge.svg\" alt=\"Open In Colab\"/></a>"
      ]
    },
    {
      "cell_type": "code",
      "metadata": {
        "id": "evrx0NjbVi_4",
        "colab": {
          "base_uri": "https://localhost:8080/"
        },
        "outputId": "7a0537d1-fd7e-4c32-f499-84dc806115a3"
      },
      "source": [
        "import numpy as np\n",
        "import os\n",
        "import matplotlib.pyplot as plt\n",
        "import cv2\n",
        "from google.colab import drive\n",
        "drive.mount(\"/content/gdrive\")"
      ],
      "execution_count": null,
      "outputs": [
        {
          "output_type": "stream",
          "text": [
            "Mounted at /content/gdrive\n"
          ],
          "name": "stdout"
        }
      ]
    },
    {
      "cell_type": "code",
      "metadata": {
        "id": "V7zEaa7NVsml"
      },
      "source": [
        "from google.colab.patches import cv2_imshow\n",
        "data_root = \"/content/gdrive/My Drive/Colab Notebooks/dataset\"\n",
        "classes = ['symptoms', 'nosymptoms']\n",
        "for c in classes:\n",
        "  path = os.path.join(data_root, c)\n",
        "  for i in os.listdir(path):\n",
        "    img = cv2.imread(os.path.join(path, i))"
      ],
      "execution_count": null,
      "outputs": []
    },
    {
      "cell_type": "code",
      "metadata": {
        "id": "JZ4eXpchbIpg"
      },
      "source": [
        "img_size = 500\n",
        "training_data = []\n",
        "\n",
        "def create_training_data(category):\n",
        "  id = classes.index(category)\n",
        "  path = os.path.join(data_root, category)\n",
        "  j = 1500\n",
        "  for i in os.listdir(path)[::-1]:\n",
        "    img = cv2.imread(os.path.join(path, i))\n",
        "\n",
        "    # pre-process\n",
        "    img = cv2.cvtColor(img, cv2.COLOR_BGR2RGB)\n",
        "\n",
        "    height,width, _ = img.shape\n",
        "    x = int(width/2)\n",
        "    y = int(height/2)\n",
        "    r = np.amin((x,y))\n",
        "    circle_img = np.zeros((height, width), np.uint8)\n",
        "    cv2.circle(circle_img, (x,y), int(r), 1, thickness=-1)\n",
        "    img = cv2.bitwise_and(img, img, mask=circle_img)\n",
        "\n",
        "    img = cv2.addWeighted(img,4, cv2.GaussianBlur(img , (0,0) , 30) ,-4 ,128)\n",
        "\n",
        "    img1 = cv2.resize(img, (500, 500), interpolation=cv2.INTER_NEAREST)\n",
        "\n",
        "    # after applying circle-crop, gaussian blur and then resize\n",
        "    img = cv2.cvtColor(img, cv2.COLOR_RGB2BGR)\n",
        "    training_data.append([img, id])\n",
        "    cv2.imwrite(data_root+\"/pro\"+category+\"/\"+str(j)+\".jpg\", img)\n",
        "    j = j-1"
      ],
      "execution_count": null,
      "outputs": []
    },
    {
      "cell_type": "code",
      "metadata": {
        "id": "-D-Na6YtcQ5l"
      },
      "source": [
        "create_training_data('symptoms')\n",
        "print(len(training_data))"
      ],
      "execution_count": null,
      "outputs": []
    },
    {
      "cell_type": "code",
      "metadata": {
        "id": "jKb2E45gIRPm"
      },
      "source": [
        "create_training_data('nosymptoms')\n",
        "print(len(training_data))"
      ],
      "execution_count": null,
      "outputs": []
    },
    {
      "cell_type": "code",
      "metadata": {
        "id": "YJv1t38qqdy3"
      },
      "source": [
        ""
      ],
      "execution_count": null,
      "outputs": []
    }
  ]
}