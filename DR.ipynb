{
  "nbformat": 4,
  "nbformat_minor": 0,
  "metadata": {
    "colab": {
      "name": "DR.ipynb",
      "provenance": [],
      "collapsed_sections": []
    },
    "kernelspec": {
      "display_name": "Python 3",
      "name": "python3"
    },
    "language_info": {
      "name": "python"
    }
  },
  "cells": [
    {
      "cell_type": "code",
      "metadata": {
        "colab": {
          "base_uri": "https://localhost:8080/"
        },
        "id": "MkjTCKzbOVmT",
        "outputId": "085232dd-3e64-4f8d-c7c2-221f0e86b041"
      },
      "source": [
        "from google.colab import drive\n",
        "drive.mount('/content/gdrive')"
      ],
      "execution_count": 1,
      "outputs": [
        {
          "output_type": "stream",
          "text": [
            "Mounted at /content/gdrive\n"
          ],
          "name": "stdout"
        }
      ]
    },
    {
      "cell_type": "code",
      "metadata": {
        "id": "ckZH1_9NaNki"
      },
      "source": [
        "from __future__ import absolute_import, division, print_function, unicode_literals\n",
        "import matplotlib.pylab as plt\n",
        "import tensorflow as tf\n",
        "import tensorflow_hub as hub\n",
        "import numpy as np\n",
        "import pandas as pd"
      ],
      "execution_count": 2,
      "outputs": []
    },
    {
      "cell_type": "code",
      "metadata": {
        "id": "OuBtExz-fFVj"
      },
      "source": [
        "# hyper-parameters\n",
        "batch_size = 5\n",
        "# 2 categories of images (Symptoms and no symptoms)\n",
        "num_classes = 2\n",
        "# number of training epochs\n",
        "epochs = 20"
      ],
      "execution_count": 3,
      "outputs": []
    },
    {
      "cell_type": "code",
      "metadata": {
        "id": "mtbCyBDufUzi"
      },
      "source": [
        "pd.set_option(\"display.precision\", 8)"
      ],
      "execution_count": 4,
      "outputs": []
    },
    {
      "cell_type": "code",
      "metadata": {
        "id": "FwrZcdqsA44T"
      },
      "source": [
        "data_root='/content/gdrive/My Drive/Colab Notebooks/dataset/training'"
      ],
      "execution_count": 5,
      "outputs": []
    },
    {
      "cell_type": "code",
      "metadata": {
        "colab": {
          "base_uri": "https://localhost:8080/"
        },
        "id": "S2tCsGgPCt74",
        "outputId": "bd09c421-61af-4644-f51c-8f160ccac337"
      },
      "source": [
        "# making array of all image files to analyse\n",
        "import os\n",
        "train_symp = []\n",
        "for x in os.listdir(data_root+\"/symptoms/\"):\n",
        "  train_symp.append(data_root+\"/symptoms/\"+x)\n",
        "train_nosymp = []\n",
        "for x in os.listdir(data_root+\"/nosymptoms/\"):\n",
        "  train_nosymp.append(data_root+\"/nosymptoms/\"+x)\n",
        "print(len(train_symp), len(train_nosymp))"
      ],
      "execution_count": 6,
      "outputs": [
        {
          "output_type": "stream",
          "text": [
            "549 1422\n"
          ],
          "name": "stdout"
        }
      ]
    },
    {
      "cell_type": "code",
      "metadata": {
        "id": "gkyuv5JkGNfN"
      },
      "source": [
        "# checking if all have uniform shape\n",
        "import cv2\n",
        "from google.colab.patches import cv2_imshow\n",
        "shapes_train = []\n",
        "for x in train_symp:\n",
        "  x = cv2.imread(x)\n",
        "  shapes_train.append(x.shape)"
      ],
      "execution_count": null,
      "outputs": []
    },
    {
      "cell_type": "code",
      "metadata": {
        "id": "gIJ_M_5jGjz5"
      },
      "source": [
        "shapes_train[1]"
      ],
      "execution_count": null,
      "outputs": []
    },
    {
      "cell_type": "code",
      "metadata": {
        "id": "B-qDTqjUODot"
      },
      "source": [
        "x = [p[0] for p in shapes_train]\n",
        "y = [p[1] for p in shapes_train]\n",
        "\n",
        "plt.figure(figsize=(10,10))\n",
        "plt.scatter(x,y)"
      ],
      "execution_count": null,
      "outputs": []
    },
    {
      "cell_type": "code",
      "metadata": {
        "id": "s0rOcsFQL7cM"
      },
      "source": [
        "img_size = 500\n",
        "data_symp = []\n",
        "os.mkdir(data_root+\"/imgpr_symp\")"
      ],
      "execution_count": 8,
      "outputs": []
    },
    {
      "cell_type": "code",
      "metadata": {
        "id": "lPA0vNi5O6gC"
      },
      "source": [
        "# image processing\n",
        "i = 0\n",
        "for x in train_symp:\n",
        "  img = cv2.imread(x)\n",
        "  img = cv2.cvtColor(img, cv2.COLOR_BGR2RGB)\n",
        "  org = img\n",
        "\n",
        "  # circle crop\n",
        "  height,width, _ = img.shape\n",
        "  x = int(width/2)\n",
        "  y = int(height/2)\n",
        "  r = np.amin((x,y))\n",
        "\n",
        "  circle_img = np.zeros((height, width), np.uint8)\n",
        "  cv2.circle(circle_img, (x,y), int(r), 1, thickness=-1)\n",
        "  img = cv2.bitwise_and(img, img, mask=circle_img)\n",
        "\n",
        "  # gaussian blur\n",
        "  img = cv2.addWeighted(img,4, cv2.GaussianBlur( img , (0,0) , 30) ,-4 ,128)\n",
        "\n",
        "  # resize\n",
        "  img1 = cv2.resize(img, (500, 500), interpolation=cv2.INTER_NEAREST)\n",
        "\n",
        "  cv2.imwrite(data_root+\"/imgpr_symp\"+\"/\"+str(i)+\".jpg\", img)\n",
        "  i = i+1"
      ],
      "execution_count": null,
      "outputs": []
    },
    {
      "cell_type": "code",
      "metadata": {
        "id": "AKJ1olBSjO6F"
      },
      "source": [
        ""
      ],
      "execution_count": null,
      "outputs": []
    }
  ]
}