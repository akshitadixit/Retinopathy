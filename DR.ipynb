{
  "nbformat": 4,
  "nbformat_minor": 0,
  "metadata": {
    "colab": {
      "name": "DR.ipynb",
      "provenance": [],
      "authorship_tag": "ABX9TyNj7wYI6n68cPxt4GR/YIrO",
      "include_colab_link": true
    },
    "kernelspec": {
      "display_name": "Python 3",
      "name": "python3"
    },
    "language_info": {
      "name": "python"
    }
  },
  "cells": [
    {
      "cell_type": "markdown",
      "metadata": {
        "id": "view-in-github",
        "colab_type": "text"
      },
      "source": [
        "<a href=\"https://colab.research.google.com/github/akshitadixit/Retinopathy/blob/main/DR.ipynb\" target=\"_parent\"><img src=\"https://colab.research.google.com/assets/colab-badge.svg\" alt=\"Open In Colab\"/></a>"
      ]
    },
    {
      "cell_type": "code",
      "metadata": {
        "colab": {
          "base_uri": "https://localhost:8080/"
        },
        "id": "MkjTCKzbOVmT",
        "outputId": "fee7ef9b-82d9-43d0-efbc-bb0530941a67"
      },
      "source": [
        "from google.colab import drive\n",
        "drive.mount('/content/gdrive')"
      ],
      "execution_count": null,
      "outputs": [
        {
          "output_type": "stream",
          "text": [
            "Mounted at /content/gdrive\n"
          ],
          "name": "stdout"
        }
      ]
    },
    {
      "cell_type": "code",
      "metadata": {
        "id": "ckZH1_9NaNki"
      },
      "source": [
        "from __future__ import absolute_import, division, print_function, unicode_literals\n",
        "import matplotlib.pylab as plt\n",
        "import tensorflow as tf\n",
        "import tensorflow_hub as hub\n",
        "import numpy as np\n",
        "import pandas as pd"
      ],
      "execution_count": null,
      "outputs": []
    },
    {
      "cell_type": "code",
      "metadata": {
        "id": "OuBtExz-fFVj"
      },
      "source": [
        "# hyper-parameters\n",
        "batch_size = 5\n",
        "# 2 categories of images (Symptoms and no symptoms)\n",
        "num_classes = 2\n",
        "# number of training epochs\n",
        "epochs = 20"
      ],
      "execution_count": null,
      "outputs": []
    },
    {
      "cell_type": "code",
      "metadata": {
        "id": "mtbCyBDufUzi"
      },
      "source": [
        "pd.set_option(\"display.precision\", 8)"
      ],
      "execution_count": null,
      "outputs": []
    },
    {
      "cell_type": "code",
      "metadata": {
        "id": "FwrZcdqsA44T"
      },
      "source": [
        "data_root='/content/gdrive/My Drive/Colab Notebooks/dataset/training'"
      ],
      "execution_count": null,
      "outputs": []
    },
    {
      "cell_type": "code",
      "metadata": {
        "colab": {
          "base_uri": "https://localhost:8080/"
        },
        "id": "S2tCsGgPCt74",
        "outputId": "a4280b85-768f-4bc1-f0ae-2fff49d26bc8"
      },
      "source": [
        "# making array of all image files to analyse\n",
        "import os\n",
        "train_symp = []\n",
        "for x in os.listdir(data_root+\"/symptoms/\"):\n",
        "  train_symp.append(data_root+\"/symptoms/\"+x)\n",
        "train_nosymp = []\n",
        "for x in os.listdir(data_root+\"/nosymptoms/\"):\n",
        "  train_nosymp.append(data_root+\"/nosymptoms/\"+x)\n",
        "print(len(train_symp), len(train_nosymp))"
      ],
      "execution_count": null,
      "outputs": [
        {
          "output_type": "stream",
          "text": [
            "585 1458\n"
          ],
          "name": "stdout"
        }
      ]
    },
    {
      "cell_type": "code",
      "metadata": {
        "colab": {
          "background_save": true
        },
        "id": "gkyuv5JkGNfN"
      },
      "source": [
        "# checking if all have uniform shape\n",
        "# defining lambda to check shape\n",
        "import cv2\n",
        "from google.colab.patches import cv2_imshow\n",
        "cv_size = lambda img: tuple(img.shape)\n",
        "for x in train_symp:\n",
        "  x = cv2.imread(x)\n",
        "  cv2_imshow(x)"
      ],
      "execution_count": null,
      "outputs": []
    },
    {
      "cell_type": "code",
      "metadata": {
        "id": "gIJ_M_5jGjz5"
      },
      "source": [
        ""
      ],
      "execution_count": null,
      "outputs": []
    }
  ]
}