{
  "nbformat": 4,
  "nbformat_minor": 0,
  "metadata": {
    "colab": {
      "name": "loading.ipynb",
      "provenance": [],
      "collapsed_sections": [],
      "authorship_tag": "ABX9TyNPQYl41ce94knHnurlP176",
      "include_colab_link": true
    },
    "kernelspec": {
      "name": "python3",
      "display_name": "Python 3"
    },
    "language_info": {
      "name": "python"
    },
    "accelerator": "GPU"
  },
  "cells": [
    {
      "cell_type": "markdown",
      "metadata": {
        "id": "view-in-github",
        "colab_type": "text"
      },
      "source": [
        "<a href=\"https://colab.research.google.com/github/akshitadixit/Retinopathy/blob/main/loading.ipynb\" target=\"_parent\"><img src=\"https://colab.research.google.com/assets/colab-badge.svg\" alt=\"Open In Colab\"/></a>"
      ]
    },
    {
      "cell_type": "code",
      "metadata": {
        "id": "OTvAVfSjrZ6p",
        "colab": {
          "base_uri": "https://localhost:8080/"
        },
        "outputId": "4df76640-e444-455f-9463-f737ac9b4447"
      },
      "source": [
        "import os\n",
        "import cv2\n",
        "import csv\n",
        "import pandas as pd\n",
        "from google.colab import drive\n",
        "drive.mount(\"/content/gdrive\")\n",
        "\n",
        "import keras\n",
        "from keras import applications\n",
        "from keras.preprocessing.image import ImageDataGenerator\n",
        "from keras import optimizers,Model,Sequential\n",
        "from keras.layers import Input,Conv2D,Dropout,Dense,Activation, MaxPooling2D, Flatten"
      ],
      "execution_count": 1,
      "outputs": [
        {
          "output_type": "stream",
          "text": [
            "Mounted at /content/gdrive\n"
          ],
          "name": "stdout"
        }
      ]
    },
    {
      "cell_type": "code",
      "metadata": {
        "id": "vsJFKyrb1NUt"
      },
      "source": [
        "data_root = \"/content/gdrive/My Drive/Colab Notebooks/dataset\"\n",
        "path = os.path.join(data_root, \"symp\")\n",
        "\n",
        "with open('/content/gdrive/My Drive/Colab Notebooks/dataset/dataset.csv', 'w', newline='') as file:\n",
        "  writer = csv.writer(file)\n",
        "  for i in os.listdir(path):\n",
        "    writer.writerow([0, os.path.join(path, i)])"
      ],
      "execution_count": null,
      "outputs": []
    },
    {
      "cell_type": "code",
      "metadata": {
        "id": "IqVmEBS_3foo"
      },
      "source": [
        "path = os.path.join(data_root, \"nosymp\")\n",
        "\n",
        "with open('/content/gdrive/My Drive/Colab Notebooks/dataset/dataset.csv', 'a', newline='') as file:\n",
        "  writer = csv.writer(file)\n",
        "  for i in os.listdir(path):\n",
        "    writer.writerow([1, os.path.join(path, i)])"
      ],
      "execution_count": null,
      "outputs": []
    },
    {
      "cell_type": "code",
      "metadata": {
        "id": "qkxxa8yzE1FX"
      },
      "source": [
        "# shuffle the data in csv\n",
        "df = pd.read_csv('/content/gdrive/My Drive/Colab Notebooks/dataset/dataset.csv')\n",
        "ds = df.sample(frac=1)\n",
        "ds.to_csv('/content/gdrive/My Drive/Colab Notebooks/dataset/dataset.csv', index=False)"
      ],
      "execution_count": null,
      "outputs": []
    },
    {
      "cell_type": "code",
      "metadata": {
        "id": "OuwtMRuerwsb"
      },
      "source": [
        "##############"
      ],
      "execution_count": null,
      "outputs": []
    },
    {
      "cell_type": "code",
      "metadata": {
        "colab": {
          "base_uri": "https://localhost:8080/"
        },
        "id": "Dn_qrB3LQnhv",
        "outputId": "1eb99d5a-98e0-4ad6-bca7-17b646d6b541"
      },
      "source": [
        "!pip install split-folders"
      ],
      "execution_count": null,
      "outputs": [
        {
          "output_type": "stream",
          "text": [
            "Collecting split-folders\n",
            "  Downloading https://files.pythonhosted.org/packages/b8/5f/3c2b2f7ea5e047c8cdc3bb00ae582c5438fcdbbedcc23b3cc1c2c7aae642/split_folders-0.4.3-py3-none-any.whl\n",
            "Installing collected packages: split-folders\n",
            "Successfully installed split-folders-0.4.3\n"
          ],
          "name": "stdout"
        }
      ]
    },
    {
      "cell_type": "code",
      "metadata": {
        "id": "y3JYiSXhQ3iD"
      },
      "source": [
        "# split the data\n",
        "\n",
        "import numpy as np\n",
        "df = pd.read_csv('/content/gdrive/My Drive/Colab Notebooks/dataset_aux/dataset.csv', header=None)\n",
        "df.columns = [\"class\", \"path\"]\n",
        "df = df.astype({\"class\": str})\n",
        "train, validate, test = np.split(df.sample(frac=1, random_state=42), [int(.7*len(df)), int(.85*len(df))])"
      ],
      "execution_count": 10,
      "outputs": []
    },
    {
      "cell_type": "code",
      "metadata": {
        "colab": {
          "base_uri": "https://localhost:8080/"
        },
        "id": "9g9Kf4e9fhxm",
        "outputId": "566b82db-08ca-4a02-8b89-1ea2db3afc14"
      },
      "source": [
        "len(train[\"path\"])"
      ],
      "execution_count": 11,
      "outputs": [
        {
          "output_type": "execute_result",
          "data": {
            "text/plain": [
              "978"
            ]
          },
          "metadata": {
            "tags": []
          },
          "execution_count": 11
        }
      ]
    },
    {
      "cell_type": "code",
      "metadata": {
        "id": "V_NuzvNzbTEU"
      },
      "source": [
        "# Model parameters\n",
        "BATCH_SIZE = 10\n",
        "EPOCHS = 20\n",
        "WARMUP_EPOCHS = 2\n",
        "LEARNING_RATE = 1e-4\n",
        "WARMUP_LEARNING_RATE = 1e-3\n",
        "HEIGHT = 500\n",
        "WIDTH = 500\n",
        "CANAL = 3\n",
        "N_CLASSES = 2\n",
        "ES_PATIENCE = 5\n",
        "RLROP_PATIENCE = 3\n",
        "DECAY_DROP = 0.5"
      ],
      "execution_count": 19,
      "outputs": []
    },
    {
      "cell_type": "code",
      "metadata": {
        "colab": {
          "base_uri": "https://localhost:8080/"
        },
        "id": "MI9fE4S9XiXt",
        "outputId": "a552d062-d741-45f5-e900-ff044a8a95c5"
      },
      "source": [
        "train_idg = ImageDataGenerator(rescale=1./255, horizontal_flip=True)\n",
        "test_idg = ImageDataGenerator(rescale=1./255)\n",
        "\n",
        "train_generator = train_idg.flow_from_dataframe(dataframe=train,\n",
        "                                                      directory=None,\n",
        "                                                      x_col=\"path\",\n",
        "                                                      y_col=\"class\",\n",
        "                                                      batch_size=BATCH_SIZE,\n",
        "                                                      class_mode=\"categorical\",\n",
        "                                                      target_size=(HEIGHT, WIDTH))\n",
        "\n",
        "valid_generator = train_idg.flow_from_dataframe(dataframe=validate,\n",
        "                                                      directory=None,\n",
        "                                                      x_col=\"path\",\n",
        "                                                      y_col=\"class\",\n",
        "                                                      batch_size=BATCH_SIZE,\n",
        "                                                      class_mode=\"categorical\",    \n",
        "                                                      target_size=(HEIGHT, WIDTH))\n",
        "\n",
        "test_generator = test_idg.flow_from_dataframe(dataframe=test,\n",
        "                                                      directory=None,\n",
        "                                                      x_col=\"path\",\n",
        "                                                      target_size=(HEIGHT, WIDTH),\n",
        "                                                      batch_size=1,\n",
        "                                                      shuffle=False,\n",
        "                                                      class_mode=None)\n",
        "    \n"
      ],
      "execution_count": 20,
      "outputs": [
        {
          "output_type": "stream",
          "text": [
            "Found 978 validated image filenames belonging to 2 classes.\n",
            "Found 210 validated image filenames belonging to 2 classes.\n",
            "Found 210 validated image filenames.\n"
          ],
          "name": "stdout"
        }
      ]
    },
    {
      "cell_type": "code",
      "metadata": {
        "id": "rTDzRRpIlcD-"
      },
      "source": [
        "model = Sequential()\n",
        "\n",
        "model.add(Conv2D(64, (3, 3), padding='same', input_shape=(500,500,3)))\n",
        "model.add(Activation('relu'))\n",
        "model.add(Conv2D(64, (3, 3)))\n",
        "model.add(Activation('relu'))\n",
        "model.add(MaxPooling2D(pool_size=(2, 2)))\n",
        "model.add(Dropout(0.25))\n",
        "\n",
        "model.add(Conv2D(64, (3, 3), padding='same'))\n",
        "model.add(Activation('relu'))\n",
        "model.add(Conv2D(64, (3, 3)))\n",
        "model.add(Activation('relu'))\n",
        "model.add(MaxPooling2D(pool_size=(2, 2)))\n",
        "model.add(Dropout(0.25))\n",
        "\n",
        "model.add(Flatten())\n",
        "model.add(Dense(64))\n",
        "model.add(Activation('relu'))\n",
        "model.add(Dropout(0.5))\n",
        "model.add(Dense(2, activation='softmax'))\n",
        "\n",
        "model.compile(optimizer=\"adam\", loss=\"binary_crossentropy\", metrics=[\"accuracy\"])"
      ],
      "execution_count": 21,
      "outputs": []
    },
    {
      "cell_type": "code",
      "metadata": {
        "colab": {
          "base_uri": "https://localhost:8080/"
        },
        "id": "SpWmlbfcokwt",
        "outputId": "e40557a1-0ba5-4a0b-8e70-a5b2a9806eaf"
      },
      "source": [
        "STEP_SIZE_TRAIN = train_generator.n//train_generator.batch_size\n",
        "STEP_SIZE_VALID = valid_generator.n//valid_generator.batch_size\n",
        "\n",
        "history_warmup = model.fit_generator(generator=train_generator,\n",
        "                                     steps_per_epoch=STEP_SIZE_TRAIN,\n",
        "                                     validation_data=valid_generator,validation_steps=STEP_SIZE_VALID,\n",
        "                                     epochs=WARMUP_EPOCHS,\n",
        "                                     verbose=1).history"
      ],
      "execution_count": 22,
      "outputs": [
        {
          "output_type": "stream",
          "text": [
            "/usr/local/lib/python3.7/dist-packages/tensorflow/python/keras/engine/training.py:1844: UserWarning: `Model.fit_generator` is deprecated and will be removed in a future version. Please use `Model.fit`, which supports generators.\n",
            "  warnings.warn('`Model.fit_generator` is deprecated and '\n"
          ],
          "name": "stderr"
        },
        {
          "output_type": "stream",
          "text": [
            "Epoch 1/2\n",
            "97/97 [==============================] - 187s 2s/step - loss: 1.8776 - accuracy: 0.6061 - val_loss: 0.5762 - val_accuracy: 0.7476\n",
            "Epoch 2/2\n",
            "97/97 [==============================] - 135s 1s/step - loss: 0.5681 - accuracy: 0.7426 - val_loss: 0.5775 - val_accuracy: 0.7476\n"
          ],
          "name": "stdout"
        }
      ]
    },
    {
      "cell_type": "code",
      "metadata": {
        "id": "qjbjtHMev9pc"
      },
      "source": [
        "from keras.callbacks import EarlyStopping,ReduceLROnPlateau\n",
        "\n",
        "es = EarlyStopping(monitor='val_loss', mode='min', patience=ES_PATIENCE, restore_best_weights=True, verbose=1)\n",
        "rlrop = ReduceLROnPlateau(monitor='val_loss', mode='min', patience=RLROP_PATIENCE, factor=DECAY_DROP, min_lr=1e-6, verbose=1)\n",
        "\n",
        "callback_list = [es, rlrop]\n",
        "optimizer = optimizers.Adam(lr=LEARNING_RATE)"
      ],
      "execution_count": 23,
      "outputs": []
    },
    {
      "cell_type": "code",
      "metadata": {
        "colab": {
          "base_uri": "https://localhost:8080/"
        },
        "id": "KAyMNOM_osVk",
        "outputId": "ecaa4f62-a38f-4ad6-d8c7-4af75afbc253"
      },
      "source": [
        "history_finetunning = model.fit_generator(generator=train_generator,\n",
        "                                          steps_per_epoch=STEP_SIZE_TRAIN,\n",
        "                                          validation_data=valid_generator,\n",
        "                                          validation_steps=STEP_SIZE_VALID,\n",
        "                                          epochs=EPOCHS,\n",
        "                                          callbacks=callback_list,\n",
        "                                          verbose=1).history"
      ],
      "execution_count": 24,
      "outputs": [
        {
          "output_type": "stream",
          "text": [
            "/usr/local/lib/python3.7/dist-packages/tensorflow/python/keras/engine/training.py:1844: UserWarning: `Model.fit_generator` is deprecated and will be removed in a future version. Please use `Model.fit`, which supports generators.\n",
            "  warnings.warn('`Model.fit_generator` is deprecated and '\n"
          ],
          "name": "stderr"
        },
        {
          "output_type": "stream",
          "text": [
            "Epoch 1/20\n",
            "97/97 [==============================] - 136s 1s/step - loss: 0.5801 - accuracy: 0.7242 - val_loss: 0.5427 - val_accuracy: 0.7524\n",
            "Epoch 2/20\n",
            "97/97 [==============================] - 136s 1s/step - loss: 0.5546 - accuracy: 0.7417 - val_loss: 0.5341 - val_accuracy: 0.7571\n",
            "Epoch 3/20\n",
            "97/97 [==============================] - 137s 1s/step - loss: 0.5605 - accuracy: 0.7490 - val_loss: 0.5352 - val_accuracy: 0.7524\n",
            "Epoch 4/20\n",
            "97/97 [==============================] - 136s 1s/step - loss: 0.5478 - accuracy: 0.7459 - val_loss: 0.5393 - val_accuracy: 0.7524\n",
            "Epoch 5/20\n",
            "97/97 [==============================] - 135s 1s/step - loss: 0.5416 - accuracy: 0.7469 - val_loss: 0.5396 - val_accuracy: 0.7571\n",
            "\n",
            "Epoch 00005: ReduceLROnPlateau reducing learning rate to 0.0005000000237487257.\n",
            "Epoch 6/20\n",
            "97/97 [==============================] - 136s 1s/step - loss: 0.5070 - accuracy: 0.7521 - val_loss: 0.5125 - val_accuracy: 0.7524\n",
            "Epoch 7/20\n",
            "97/97 [==============================] - 135s 1s/step - loss: 0.4884 - accuracy: 0.7624 - val_loss: 0.5329 - val_accuracy: 0.7571\n",
            "Epoch 8/20\n",
            "97/97 [==============================] - 136s 1s/step - loss: 0.4713 - accuracy: 0.7624 - val_loss: 0.5292 - val_accuracy: 0.7524\n",
            "Epoch 9/20\n",
            "97/97 [==============================] - 136s 1s/step - loss: 0.4520 - accuracy: 0.7831 - val_loss: 0.4880 - val_accuracy: 0.7667\n",
            "Epoch 10/20\n",
            "97/97 [==============================] - 136s 1s/step - loss: 0.4219 - accuracy: 0.7955 - val_loss: 0.4835 - val_accuracy: 0.7476\n",
            "Epoch 11/20\n",
            "97/97 [==============================] - 135s 1s/step - loss: 0.4148 - accuracy: 0.8130 - val_loss: 0.4772 - val_accuracy: 0.7810\n",
            "Epoch 12/20\n",
            "97/97 [==============================] - 134s 1s/step - loss: 0.3582 - accuracy: 0.8388 - val_loss: 0.5316 - val_accuracy: 0.7381\n",
            "Epoch 13/20\n",
            "97/97 [==============================] - 134s 1s/step - loss: 0.3628 - accuracy: 0.8419 - val_loss: 0.5114 - val_accuracy: 0.7619\n",
            "Epoch 14/20\n",
            "97/97 [==============================] - 134s 1s/step - loss: 0.3383 - accuracy: 0.8605 - val_loss: 0.5242 - val_accuracy: 0.7381\n",
            "\n",
            "Epoch 00014: ReduceLROnPlateau reducing learning rate to 0.0002500000118743628.\n",
            "Epoch 15/20\n",
            "97/97 [==============================] - 134s 1s/step - loss: 0.2560 - accuracy: 0.8967 - val_loss: 0.6673 - val_accuracy: 0.7381\n",
            "Epoch 16/20\n",
            "97/97 [==============================] - 134s 1s/step - loss: 0.2371 - accuracy: 0.9029 - val_loss: 0.5534 - val_accuracy: 0.7571\n",
            "Restoring model weights from the end of the best epoch.\n",
            "Epoch 00016: early stopping\n"
          ],
          "name": "stdout"
        }
      ]
    },
    {
      "cell_type": "code",
      "metadata": {
        "id": "qcF0yoNQvuDn",
        "colab": {
          "base_uri": "https://localhost:8080/",
          "height": 350
        },
        "outputId": "97315346-5ab1-4be8-a11b-d7c0b6dcb5cf"
      },
      "source": [
        "import matplotlib.pyplot as plt\n",
        "plt.figure(figsize=(8,5))\n",
        "\n",
        "plt.plot(history_finetunning['accuracy'])\n",
        "plt.plot(history_finetunning['val_accuracy'])\n",
        "plt.title('Model Accuracy')\n",
        "plt.ylabel('Accuracy')\n",
        "plt.xlabel('Epoch')\n",
        "plt.legend(['Train', 'Validation'], loc='upper left')\n",
        "plt.gca().ticklabel_format(axis='both', style='plain', useOffset=False)\n",
        "plt.show()"
      ],
      "execution_count": 26,
      "outputs": [
        {
          "output_type": "display_data",
          "data": {
            "image/png": "[encoded data removed]",
            "text/plain": [
              "<Figure size 576x360 with 1 Axes>"
            ]
          },
          "metadata": {
            "tags": [],
            "needs_background": "light"
          }
        }
      ]
    },
    {
      "cell_type": "code",
      "metadata": {
        "id": "guRqJxMOxOE2"
      },
      "source": [
        ""
      ],
      "execution_count": null,
      "outputs": []
    }
  ]
}