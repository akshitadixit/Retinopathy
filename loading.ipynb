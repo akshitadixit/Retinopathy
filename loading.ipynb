{
  "nbformat": 4,
  "nbformat_minor": 0,
  "metadata": {
    "colab": {
      "name": "loading.ipynb",
      "provenance": [],
      "collapsed_sections": [],
      "authorship_tag": "ABX9TyPEt1qO0yqVt33b3Cx188dU",
      "include_colab_link": true
    },
    "kernelspec": {
      "name": "python3",
      "display_name": "Python 3"
    },
    "language_info": {
      "name": "python"
    }
  },
  "cells": [
    {
      "cell_type": "markdown",
      "metadata": {
        "id": "view-in-github",
        "colab_type": "text"
      },
      "source": [
        "<a href=\"https://colab.research.google.com/github/akshitadixit/Retinopathy/blob/main/loading.ipynb\" target=\"_parent\"><img src=\"https://colab.research.google.com/assets/colab-badge.svg\" alt=\"Open In Colab\"/></a>"
      ]
    },
    {
      "cell_type": "code",
      "metadata": {
        "id": "OTvAVfSjrZ6p",
        "colab": {
          "base_uri": "https://localhost:8080/"
        },
        "outputId": "f6306416-0c4d-4650-a0ef-8f1ba3116620"
      },
      "source": [
        "import os\n",
        "import cv2\n",
        "import csv\n",
        "import pandas as pd\n",
        "from google.colab import drive\n",
        "drive.mount(\"/content/gdrive\")\n",
        "\n",
        "import keras\n",
        "from keras import applications\n",
        "from keras.preprocessing.image import ImageDataGenerator\n",
        "from keras import optimizers,Model,Sequential\n",
        "from keras.layers import Input,Conv2D,Dropout,Dense,Activation, MaxPooling2D, Flatten"
      ],
      "execution_count": 84,
      "outputs": [
        {
          "output_type": "stream",
          "text": [
            "Drive already mounted at /content/gdrive; to attempt to forcibly remount, call drive.mount(\"/content/gdrive\", force_remount=True).\n"
          ],
          "name": "stdout"
        }
      ]
    },
    {
      "cell_type": "code",
      "metadata": {
        "id": "vsJFKyrb1NUt"
      },
      "source": [
        "data_root = \"/content/gdrive/My Drive/Colab Notebooks/dataset\"\n",
        "path = os.path.join(data_root, \"symp\")\n",
        "\n",
        "with open('/content/gdrive/My Drive/Colab Notebooks/dataset/dataset.csv', 'w', newline='') as file:\n",
        "  writer = csv.writer(file)\n",
        "  for i in os.listdir(path):\n",
        "    writer.writerow([0, os.path.join(path, i)])"
      ],
      "execution_count": null,
      "outputs": []
    },
    {
      "cell_type": "code",
      "metadata": {
        "id": "IqVmEBS_3foo"
      },
      "source": [
        "path = os.path.join(data_root, \"nosymp\")\n",
        "\n",
        "with open('/content/gdrive/My Drive/Colab Notebooks/dataset/dataset.csv', 'a', newline='') as file:\n",
        "  writer = csv.writer(file)\n",
        "  for i in os.listdir(path):\n",
        "    writer.writerow([1, os.path.join(path, i)])"
      ],
      "execution_count": null,
      "outputs": []
    },
    {
      "cell_type": "code",
      "metadata": {
        "id": "qkxxa8yzE1FX"
      },
      "source": [
        "# shuffle the data in csv\n",
        "df = pd.read_csv('/content/gdrive/My Drive/Colab Notebooks/dataset/dataset.csv')\n",
        "ds = df.sample(frac=1)\n",
        "ds.to_csv('/content/gdrive/My Drive/Colab Notebooks/dataset/dataset.csv', index=False)"
      ],
      "execution_count": null,
      "outputs": []
    },
    {
      "cell_type": "code",
      "metadata": {
        "id": "OuwtMRuerwsb"
      },
      "source": [
        "##############"
      ],
      "execution_count": null,
      "outputs": []
    },
    {
      "cell_type": "code",
      "metadata": {
        "colab": {
          "base_uri": "https://localhost:8080/"
        },
        "id": "Dn_qrB3LQnhv",
        "outputId": "1eb99d5a-98e0-4ad6-bca7-17b646d6b541"
      },
      "source": [
        "!pip install split-folders"
      ],
      "execution_count": 4,
      "outputs": [
        {
          "output_type": "stream",
          "text": [
            "Collecting split-folders\n",
            "  Downloading https://files.pythonhosted.org/packages/b8/5f/3c2b2f7ea5e047c8cdc3bb00ae582c5438fcdbbedcc23b3cc1c2c7aae642/split_folders-0.4.3-py3-none-any.whl\n",
            "Installing collected packages: split-folders\n",
            "Successfully installed split-folders-0.4.3\n"
          ],
          "name": "stdout"
        }
      ]
    },
    {
      "cell_type": "code",
      "metadata": {
        "id": "y3JYiSXhQ3iD"
      },
      "source": [
        "# split the data\n",
        "\n",
        "import numpy as np\n",
        "df = pd.read_csv('/content/gdrive/My Drive/Colab Notebooks/dataset_aux/dataset.csv', header=None)\n",
        "df.columns = [\"class\", \"path\"]\n",
        "df = df.astype({\"class\": str})\n",
        "train, validate, test = np.split(df.sample(frac=1, random_state=42), [int(.7*len(df)), int(.85*len(df))])"
      ],
      "execution_count": 71,
      "outputs": []
    },
    {
      "cell_type": "code",
      "metadata": {
        "colab": {
          "base_uri": "https://localhost:8080/"
        },
        "id": "9g9Kf4e9fhxm",
        "outputId": "964fb217-5f27-4afc-978b-0dc36511a745"
      },
      "source": [
        "len(train[\"path\"])"
      ],
      "execution_count": 68,
      "outputs": [
        {
          "output_type": "execute_result",
          "data": {
            "text/plain": [
              "978"
            ]
          },
          "metadata": {
            "tags": []
          },
          "execution_count": 68
        }
      ]
    },
    {
      "cell_type": "code",
      "metadata": {
        "id": "V_NuzvNzbTEU"
      },
      "source": [
        "# Model parameters\n",
        "BATCH_SIZE = 5\n",
        "EPOCHS = 20\n",
        "WARMUP_EPOCHS = 2\n",
        "LEARNING_RATE = 1e-4\n",
        "WARMUP_LEARNING_RATE = 1e-3\n",
        "HEIGHT = 500\n",
        "WIDTH = 500\n",
        "CANAL = 3\n",
        "N_CLASSES = 2\n",
        "ES_PATIENCE = 5\n",
        "RLROP_PATIENCE = 3\n",
        "DECAY_DROP = 0.5"
      ],
      "execution_count": 78,
      "outputs": []
    },
    {
      "cell_type": "code",
      "metadata": {
        "colab": {
          "base_uri": "https://localhost:8080/"
        },
        "id": "MI9fE4S9XiXt",
        "outputId": "6c720a82-89a6-4949-ad87-5ab72b5a0a9e"
      },
      "source": [
        "train_idg = ImageDataGenerator(rescale=1./255, horizontal_flip=True)\n",
        "test_idg = ImageDataGenerator(rescale=1./255)\n",
        "\n",
        "train_generator = train_idg.flow_from_dataframe(dataframe=train,\n",
        "                                                      directory=None,\n",
        "                                                      x_col=\"path\",\n",
        "                                                      y_col=\"class\",\n",
        "                                                      batch_size=BATCH_SIZE,\n",
        "                                                      class_mode=\"categorical\",\n",
        "                                                      target_size=(HEIGHT, WIDTH))\n",
        "\n",
        "valid_generator = train_idg.flow_from_dataframe(dataframe=validate,\n",
        "                                                      directory=None,\n",
        "                                                      x_col=\"path\",\n",
        "                                                      y_col=\"class\",\n",
        "                                                      batch_size=BATCH_SIZE,\n",
        "                                                      class_mode=\"categorical\",    \n",
        "                                                      target_size=(HEIGHT, WIDTH))\n",
        "\n",
        "test_generator = test_idg.flow_from_dataframe(dataframe=test,\n",
        "                                                      directory=None,\n",
        "                                                      x_col=\"path\",\n",
        "                                                      target_size=(HEIGHT, WIDTH),\n",
        "                                                      batch_size=1,\n",
        "                                                      shuffle=False,\n",
        "                                                      class_mode=None)\n",
        "    \n"
      ],
      "execution_count": 72,
      "outputs": [
        {
          "output_type": "stream",
          "text": [
            "Found 978 validated image filenames belonging to 2 classes.\n",
            "Found 210 validated image filenames belonging to 2 classes.\n",
            "Found 210 validated image filenames.\n"
          ],
          "name": "stdout"
        }
      ]
    },
    {
      "cell_type": "code",
      "metadata": {
        "id": "rTDzRRpIlcD-"
      },
      "source": [
        "model = Sequential()\n",
        "\n",
        "model.add(Conv2D(64, (3, 3), padding='same', input_shape=(500,500,3)))\n",
        "model.add(Activation('relu'))\n",
        "model.add(Conv2D(64, (3, 3)))\n",
        "model.add(Activation('relu'))\n",
        "model.add(MaxPooling2D(pool_size=(2, 2)))\n",
        "model.add(Dropout(0.25))\n",
        "\n",
        "model.add(Conv2D(64, (3, 3), padding='same'))\n",
        "model.add(Activation('relu'))\n",
        "model.add(Conv2D(64, (3, 3)))\n",
        "model.add(Activation('relu'))\n",
        "model.add(MaxPooling2D(pool_size=(2, 2)))\n",
        "model.add(Dropout(0.25))\n",
        "\n",
        "model.add(Flatten())\n",
        "model.add(Dense(64))\n",
        "model.add(Activation('relu'))\n",
        "model.add(Dropout(0.5))\n",
        "model.add(Dense(2, activation='softmax'))\n",
        "\n",
        "model.compile(optimizer=\"adam\", loss=\"binary_crossentropy\", metrics=[\"accuracy\"])"
      ],
      "execution_count": 75,
      "outputs": []
    },
    {
      "cell_type": "code",
      "metadata": {
        "colab": {
          "base_uri": "https://localhost:8080/"
        },
        "id": "SpWmlbfcokwt",
        "outputId": "6c607e62-faff-44d3-fac4-31124d7c4b14"
      },
      "source": [
        "STEP_SIZE_TRAIN = train_generator.n//train_generator.batch_size\n",
        "STEP_SIZE_VALID = valid_generator.n//valid_generator.batch_size\n",
        "\n",
        "history_warmup = model.fit_generator(generator=train_generator,\n",
        "                                     steps_per_epoch=STEP_SIZE_TRAIN,\n",
        "                                     validation_data=valid_generator,validation_steps=STEP_SIZE_VALID,\n",
        "                                     epochs=WARMUP_EPOCHS,\n",
        "                                     verbose=1).history"
      ],
      "execution_count": 79,
      "outputs": [
        {
          "output_type": "stream",
          "text": [
            "/usr/local/lib/python3.7/dist-packages/tensorflow/python/keras/engine/training.py:1844: UserWarning: `Model.fit_generator` is deprecated and will be removed in a future version. Please use `Model.fit`, which supports generators.\n",
            "  warnings.warn('`Model.fit_generator` is deprecated and '\n"
          ],
          "name": "stderr"
        },
        {
          "output_type": "stream",
          "text": [
            "Epoch 1/2\n",
            "195/195 [==============================] - 1939s 10s/step - loss: 0.6847 - accuracy: 0.5858 - val_loss: 0.6862 - val_accuracy: 0.5619\n",
            "Epoch 2/2\n",
            "195/195 [==============================] - 1952s 10s/step - loss: 0.6808 - accuracy: 0.5879 - val_loss: 0.6855 - val_accuracy: 0.5619\n"
          ],
          "name": "stdout"
        }
      ]
    },
    {
      "cell_type": "code",
      "metadata": {
        "id": "qjbjtHMev9pc"
      },
      "source": [
        "from keras.callbacks import EarlyStopping,ReduceLROnPlateau\n",
        "\n",
        "es = EarlyStopping(monitor='val_loss', mode='min', patience=ES_PATIENCE, restore_best_weights=True, verbose=1)\n",
        "rlrop = ReduceLROnPlateau(monitor='val_loss', mode='min', patience=RLROP_PATIENCE, factor=DECAY_DROP, min_lr=1e-6, verbose=1)\n",
        "\n",
        "callback_list = [es, rlrop]\n",
        "optimizer = optimizers.Adam(lr=LEARNING_RATE)"
      ],
      "execution_count": 85,
      "outputs": []
    },
    {
      "cell_type": "code",
      "metadata": {
        "colab": {
          "base_uri": "https://localhost:8080/"
        },
        "id": "KAyMNOM_osVk",
        "outputId": "9ade2701-5eb5-486f-ab51-f355dcf8a92a"
      },
      "source": [
        "history_finetunning = model.fit_generator(generator=train_generator,\n",
        "                                          steps_per_epoch=STEP_SIZE_TRAIN,\n",
        "                                          validation_data=valid_generator,\n",
        "                                          validation_steps=STEP_SIZE_VALID,\n",
        "                                          epochs=EPOCHS,\n",
        "                                          callbacks=callback_list,\n",
        "                                          verbose=1).history"
      ],
      "execution_count": null,
      "outputs": [
        {
          "output_type": "stream",
          "text": [
            "/usr/local/lib/python3.7/dist-packages/tensorflow/python/keras/engine/training.py:1844: UserWarning: `Model.fit_generator` is deprecated and will be removed in a future version. Please use `Model.fit`, which supports generators.\n",
            "  warnings.warn('`Model.fit_generator` is deprecated and '\n"
          ],
          "name": "stderr"
        },
        {
          "output_type": "stream",
          "text": [
            "Epoch 1/20\n",
            "195/195 [==============================] - 1983s 10s/step - loss: 0.6802 - accuracy: 0.5879 - val_loss: 0.6855 - val_accuracy: 0.5619\n",
            "Epoch 2/20\n",
            "123/195 [=================>............] - ETA: 11:30 - loss: 0.6772 - accuracy: 0.5905"
          ],
          "name": "stdout"
        }
      ]
    },
    {
      "cell_type": "code",
      "metadata": {
        "id": "qcF0yoNQvuDn"
      },
      "source": [
        ""
      ],
      "execution_count": null,
      "outputs": []
    }
  ]
}